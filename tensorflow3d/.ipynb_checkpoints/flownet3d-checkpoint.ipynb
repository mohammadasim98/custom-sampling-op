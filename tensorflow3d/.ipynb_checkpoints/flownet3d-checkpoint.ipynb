{
 "cells": [
  {
   "cell_type": "code",
   "execution_count": null,
   "id": "57287a17",
   "metadata": {},
   "outputs": [],
   "source": [
    "import tensorflow3d as t3d"
   ]
  },
  {
   "cell_type": "code",
   "execution_count": null,
   "id": "87fc2d93",
   "metadata": {},
   "outputs": [],
   "source": [
    "t3d"
   ]
  }
 ],
 "metadata": {
  "kernelspec": {
   "display_name": "Python 3",
   "language": "python",
   "name": "python3"
  },
  "language_info": {
   "codemirror_mode": {
    "name": "ipython",
    "version": 3
   },
   "file_extension": ".py",
   "mimetype": "text/x-python",
   "name": "python",
   "nbconvert_exporter": "python",
   "pygments_lexer": "ipython3",
   "version": "3.6.12"
  }
 },
 "nbformat": 4,
 "nbformat_minor": 5
}
