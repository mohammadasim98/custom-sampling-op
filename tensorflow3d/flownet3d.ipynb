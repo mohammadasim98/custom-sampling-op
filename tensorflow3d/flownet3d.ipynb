{
 "cells": [
  {
   "cell_type": "code",
   "execution_count": 1,
   "id": "57287a17",
   "metadata": {},
   "outputs": [],
   "source": [
    "import tensorflow as tf\n",
    "import tensorflow3d as t3d\n",
    "import numpy as np"
   ]
  },
  {
   "cell_type": "code",
   "execution_count": 2,
   "id": "87fc2d93",
   "metadata": {},
   "outputs": [
    {
     "name": "stdout",
     "output_type": "stream",
     "text": [
      "Model: \"functional_1\"\n",
      "__________________________________________________________________________________________________\n",
      "Layer (type)                    Output Shape         Param #     Connected to                     \n",
      "==================================================================================================\n",
      "input_1 (InputLayer)            [(None, 2048, 3)]    0                                            \n",
      "__________________________________________________________________________________________________\n",
      "input_2 (InputLayer)            [(None, 2048, 3)]    0                                            \n",
      "__________________________________________________________________________________________________\n",
      "set_conv (SetConv)              ((None, 1024, 3), (N 3808        input_1[0][0]                    \n",
      "__________________________________________________________________________________________________\n",
      "set_conv_2 (SetConv)            ((None, 1024, 3), (N 3808        input_2[0][0]                    \n",
      "__________________________________________________________________________________________________\n",
      "set_conv_1 (SetConv)            ((None, 256, 3), (No 17856       set_conv[0][0]                   \n",
      "                                                                 set_conv[0][1]                   \n",
      "__________________________________________________________________________________________________\n",
      "set_conv_3 (SetConv)            ((None, 256, 3), (No 17856       set_conv_2[0][0]                 \n",
      "                                                                 set_conv_2[0][1]                 \n",
      "__________________________________________________________________________________________________\n",
      "flow_embedding (FlowEmbedding)  ((None, 256, 3), (No 67840       set_conv_1[0][0]                 \n",
      "                                                                 set_conv_1[0][1]                 \n",
      "                                                                 set_conv_3[0][0]                 \n",
      "                                                                 set_conv_3[0][1]                 \n",
      "__________________________________________________________________________________________________\n",
      "set_conv_4 (SetConv)            ((None, 64, 3), (Non 68480       set_conv_1[0][0]                 \n",
      "                                                                 flow_embedding[0][1]             \n",
      "__________________________________________________________________________________________________\n",
      "set_conv_5 (SetConv)            ((None, 16, 3), (Non 268032      set_conv_4[0][0]                 \n",
      "                                                                 set_conv_4[0][1]                 \n",
      "__________________________________________________________________________________________________\n",
      "tf_op_layer_concat (TensorFlowO [(None, 256, 256)]   0           set_conv_1[0][1]                 \n",
      "                                                                 flow_embedding[0][1]             \n",
      "__________________________________________________________________________________________________\n",
      "set_up_conv (SetUpConv)         (None, 64, 256)      265472      set_conv_4[0][0]                 \n",
      "                                                                 set_conv_4[0][1]                 \n",
      "                                                                 set_conv_5[0][0]                 \n",
      "                                                                 set_conv_5[0][1]                 \n",
      "__________________________________________________________________________________________________\n",
      "set_up_conv_1 (SetUpConv)       (None, 256, 256)     217216      set_conv_1[0][0]                 \n",
      "                                                                 tf_op_layer_concat[0][0]         \n",
      "                                                                 set_conv_4[0][0]                 \n",
      "                                                                 set_up_conv[0][0]                \n",
      "__________________________________________________________________________________________________\n",
      "set_up_conv_2 (SetUpConv)       (None, 1024, 256)    168064      set_conv[0][0]                   \n",
      "                                                                 set_conv[0][1]                   \n",
      "                                                                 set_conv_1[0][0]                 \n",
      "                                                                 set_up_conv_1[0][0]              \n",
      "__________________________________________________________________________________________________\n",
      "feature_propagation (FeaturePro (None, 2048, 256)    133632      input_1[0][0]                    \n",
      "                                                                 set_conv[0][0]                   \n",
      "                                                                 set_up_conv_2[0][0]              \n",
      "__________________________________________________________________________________________________\n",
      "conv1d (Conv1D)                 (None, 2048, 128)    33408       feature_propagation[0][0]        \n",
      "__________________________________________________________________________________________________\n",
      "conv1d_1 (Conv1D)               (None, 2048, 3)      387         conv1d[0][0]                     \n",
      "==================================================================================================\n",
      "Total params: 1,265,859\n",
      "Trainable params: 1,255,107\n",
      "Non-trainable params: 10,752\n",
      "__________________________________________________________________________________________________\n"
     ]
    }
   ],
   "source": [
    "pt_sample=np.random.rand(1, 2048, 3).astype('float32')\n",
    "flownet3d = t3d.models.FlowNet3D(name='flownet3d').build(input_shape1=(2048, 3), input_shape2=(2048, 3))\n",
    "flownet3d.summary()"
   ]
  },
  {
   "cell_type": "code",
   "execution_count": 3,
   "id": "44fa4d21",
   "metadata": {},
   "outputs": [
    {
     "data": {
      "text/plain": [
       "<tf.Tensor: shape=(1, 2048, 3), dtype=float32, numpy=\n",
       "array([[[ 0.02515893, -0.12718855,  0.05282919],\n",
       "        [-0.00070373, -0.0036317 ,  0.00125613],\n",
       "        [-0.00108259, -0.00339303,  0.00212296],\n",
       "        ...,\n",
       "        [-0.0005703 , -0.00388454,  0.00138087],\n",
       "        [-0.00105531, -0.00313573,  0.00184298],\n",
       "        [-0.00121647, -0.00306972,  0.00211706]]], dtype=float32)>"
      ]
     },
     "execution_count": 3,
     "metadata": {},
     "output_type": "execute_result"
    }
   ],
   "source": [
    "flownet3d((pt_sample, pt_sample))"
   ]
  },
  {
   "cell_type": "code",
   "execution_count": 4,
   "id": "afdf6bd5",
   "metadata": {},
   "outputs": [],
   "source": [
    "pred = flownet3d((pt_sample, pt_sample))"
   ]
  },
  {
   "cell_type": "code",
   "execution_count": null,
   "id": "731aac6f",
   "metadata": {},
   "outputs": [],
   "source": []
  }
 ],
 "metadata": {
  "kernelspec": {
   "display_name": "Python 3",
   "language": "python",
   "name": "python3"
  },
  "language_info": {
   "codemirror_mode": {
    "name": "ipython",
    "version": 3
   },
   "file_extension": ".py",
   "mimetype": "text/x-python",
   "name": "python",
   "nbconvert_exporter": "python",
   "pygments_lexer": "ipython3",
   "version": "3.6.12"
  }
 },
 "nbformat": 4,
 "nbformat_minor": 5
}
